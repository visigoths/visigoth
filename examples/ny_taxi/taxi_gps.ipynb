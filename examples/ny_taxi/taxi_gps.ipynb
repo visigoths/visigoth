{
 "cells": [
  {
   "cell_type": "code",
   "execution_count": 1,
   "metadata": {},
   "outputs": [],
   "source": [
    "import csv\n",
    "import os\n",
    "from visigoth import Diagram\n",
    "from visigoth.containers import Map, Box\n",
    "from visigoth.map_layers import WMTS, Hexbin\n",
    "from visigoth.common import Text, MapLayerManager, Legend\n",
    "from visigoth.utils.colour import ContinuousPalette\n",
    "from visigoth.utils.mapping import Projections\n",
    "\n",
    "import requests"
   ]
  },
  {
   "cell_type": "code",
   "execution_count": 2,
   "metadata": {},
   "outputs": [],
   "source": [
    "# caution - this will be a 1.8 Gb download\n",
    "filename = \"yellow_tripdata_2015-01.csv\"\n",
    "if not os.path.exists(filename):\n",
    "    print(\"Downloading data, please wait\")\n",
    "    r = requests.get('https://s3.amazonaws.com/nyc-tlc/trip+data/yellow_tripdata_2015-01.csv', stream=True)\n",
    "    with open(filename, 'wb') as fd:\n",
    "        for chunk in r.iter_content(chunk_size=128):\n",
    "            fd.write(chunk)"
   ]
  },
  {
   "cell_type": "code",
   "execution_count": 11,
   "metadata": {},
   "outputs": [],
   "source": [
    "bounds = ((-74.2, 40.6), (-73.5, 40.9))"
   ]
  },
  {
   "cell_type": "code",
   "execution_count": 13,
   "metadata": {},
   "outputs": [],
   "source": [
    "data = []\n",
    "headers = {}\n",
    "\n",
    "# load the data from CSV, for January 1st 2015 only \n",
    "rdr = csv.reader(open(\"yellow_tripdata_2015-01.csv\",\"r\"))\n",
    "\n",
    "for row in rdr:\n",
    "    if not headers:\n",
    "        for idx in range(len(row)):\n",
    "            headers[row[idx]] = idx\n",
    "    else:\n",
    "        dt = row[headers[\"tpep_pickup_datetime\"]]\n",
    "        if dt.startswith(\"2015-01-01\"):\n",
    "            for (lat_field,lon_field) in [(\"pickup_latitude\",\"pickup_longitude\"),(\"dropoff_latitude\",\"dropoff_longitude\")]:\n",
    "                lat = float(row[headers[lat_field]])\n",
    "                lon = float(row[headers[lon_field]])\n",
    "                data.append((lon,lat))"
   ]
  },
  {
   "cell_type": "code",
   "execution_count": 14,
   "metadata": {},
   "outputs": [
    {
     "data": {
      "text/plain": [
       "<visigoth.diagram.Diagram at 0x10e171bd0>"
      ]
     },
     "execution_count": 14,
     "metadata": {},
     "output_type": "execute_result"
    }
   ],
   "source": [
    "d = Diagram(fill=\"white\",margin_right=0,margin_left=0,margin_top=0,margin_bottom=0)\n",
    "\n",
    "# create the map and and an open street map base layer\n",
    "m = Map(width=768,boundaries=bounds,projection=Projections.EPSG_3857,zoom_to=16)\n",
    "wmts = WMTS(embed_images=False)\n",
    "m.add(wmts)\n",
    "\n",
    "palette = ContinuousPalette(colourMap=[\"#00FF0080\",\"#0000FFC0\",\"#FF0000FF\"])\n",
    "\n",
    "# define the heatmap\n",
    "heatmap = Hexbin(data,palette=palette,nr_bins_across=150,stroke_width=0.3,stroke=\"#DDDDDD40\",min_freq=1)\n",
    "m.add(heatmap)\n",
    "\n",
    "# lay out the diagram, starting with a title\n",
    "d.add(Text(\"NY Yellow Cab pickup/dropoff locations - Jan 1st 2015\",font_height=32))\n",
    "d.add(Text(\"Total Trips: %d\"%(int(len(data)/2))))\n",
    "\n",
    "# add the legend and map\n",
    "d.add(Box(m))\n",
    "d.add(Legend(palette,label=\"Frequency (thousands)\",labelfn=lambda x:str(int(x/1000))))\n",
    "\n",
    "# add a layer manager to allow layers to be turned on and off\n",
    "mlm = MapLayerManager([{\"layer\":heatmap,\"label\":\"Trips\"},{\"layer\":wmts,\"label\":\"Base Map\"}],title=\"Select Layer(s)\",height=150)\n",
    "d.add(mlm)\n",
    "d.connect(mlm,\"manage_layers\",m,\"manage_layers\")"
   ]
  },
  {
   "cell_type": "code",
   "execution_count": 15,
   "metadata": {},
   "outputs": [
    {
     "name": "stdout",
     "output_type": "stream",
     "text": [
      "hexbin building 99%   #################################################\n",
      "hexbin complete\n"
     ]
    },
    {
     "data": {
      "text/html": [
       "\n",
       "        <iframe\n",
       "            width=\"850\"\n",
       "            height=\"850\"\n",
       "            src=\"./ny.html\"\n",
       "            frameborder=\"0\"\n",
       "            allowfullscreen\n",
       "        ></iframe>\n",
       "        "
      ],
      "text/plain": [
       "<IPython.lib.display.IFrame at 0x10e10c110>"
      ]
     },
     "metadata": {},
     "output_type": "display_data"
    }
   ],
   "source": [
    "from IPython.display import IFrame,display\n",
    "\n",
    "html = d.draw(format=\"html\",include_footer=False)\n",
    "with open(\"ny.html\",\"w\") as f:\n",
    "    f.write(html)\n",
    "display(IFrame(\"./ny.html\",850,850))"
   ]
  },
  {
   "cell_type": "code",
   "execution_count": null,
   "metadata": {},
   "outputs": [],
   "source": []
  }
 ],
 "metadata": {
  "kernelspec": {
   "display_name": "Python 3",
   "language": "python",
   "name": "python3"
  },
  "language_info": {
   "codemirror_mode": {
    "name": "ipython",
    "version": 3
   },
   "file_extension": ".py",
   "mimetype": "text/x-python",
   "name": "python",
   "nbconvert_exporter": "python",
   "pygments_lexer": "ipython3",
   "version": "3.7.7"
  }
 },
 "nbformat": 4,
 "nbformat_minor": 4
}
